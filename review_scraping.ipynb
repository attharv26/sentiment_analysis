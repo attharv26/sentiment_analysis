{
 "cells": [
  {
   "cell_type": "code",
   "execution_count": 1,
   "metadata": {},
   "outputs": [],
   "source": [
    "from dputils.scrape import Scraper, Tag\n",
    "import pandas as pd"
   ]
  },
  {
   "cell_type": "code",
   "execution_count": 2,
   "metadata": {},
   "outputs": [],
   "source": [
    "cookie = {\n",
    "    'session-id': '258-8536415-7562803',\n",
    "    'session-id-time': '2082787201l',\n",
    "    'i18n-prefs': 'INR',\n",
    "    'ubid-acbin': '258-6710440-2061317',\n",
    "    'lc-acbin': 'en_IN',\n",
    "    'session-token': 'eWq34+q7sYTfkGiVX7v2ArGM2EluDE0WjVGoSGnzP7AeI+A0urYPd8l/fC+WCdmwAlbbRXQSTx6XvgmoNlibzRULffOo2uCws/YKlHdrfXTyxQfz2WDwZEDRbXr/+f/u7Mg/xdOAciZl4N5XEzlNAH4bYNIY+y/Iaof9tkqjtJ50E5ZQxu99dH163pzJsxz+Cd2yyAdVf1LcyhIm0IkHSLtQ4en3jjo5tk3MD+d1+RAyRGGeR3Pb9yjYoT6lQubmWMFlsyrnVKbRQQZgsba06rUnpxhKlTSVunixpHSQdnvKRnVNL2Hz78AEP16ugPYneoufbvIm70HYFB50mmQs4s1KjArjd/cA'\n",
    "}"
   ]
  },
  {
   "cell_type": "code",
   "execution_count": 3,
   "metadata": {},
   "outputs": [
    {
     "ename": "NameError",
     "evalue": "name 'Tag' is not defined",
     "output_type": "error",
     "traceback": [
      "\u001b[1;31m---------------------------------------------------------------------------\u001b[0m",
      "\u001b[1;31mNameError\u001b[0m                                 Traceback (most recent call last)",
      "Cell \u001b[1;32mIn[3], line 3\u001b[0m\n\u001b[0;32m      1\u001b[0m \u001b[38;5;28;01mimport\u001b[39;00m \u001b[38;5;21;01mtime\u001b[39;00m\n\u001b[0;32m      2\u001b[0m i \u001b[38;5;241m=\u001b[39m \u001b[38;5;241m1\u001b[39m\n\u001b[1;32m----> 3\u001b[0m target \u001b[38;5;241m=\u001b[39m Tag(\u001b[38;5;28mid\u001b[39m\u001b[38;5;241m=\u001b[39m\u001b[38;5;124m'\u001b[39m\u001b[38;5;124mcm_cr-review_list\u001b[39m\u001b[38;5;124m'\u001b[39m)\n\u001b[0;32m      4\u001b[0m items \u001b[38;5;241m=\u001b[39m Tag(\u001b[38;5;28mcls\u001b[39m\u001b[38;5;241m=\u001b[39m\u001b[38;5;124m\"\u001b[39m\u001b[38;5;124mreview\u001b[39m\u001b[38;5;124m\"\u001b[39m)\n\u001b[0;32m      5\u001b[0m title \u001b[38;5;241m=\u001b[39m Tag(\u001b[38;5;124m'\u001b[39m\u001b[38;5;124ma\u001b[39m\u001b[38;5;124m'\u001b[39m, \u001b[38;5;28mcls\u001b[39m\u001b[38;5;241m=\u001b[39m\u001b[38;5;124m'\u001b[39m\u001b[38;5;124ma-size-base a-link-normal review-title a-color-base review-title-content a-text-bold\u001b[39m\u001b[38;5;124m'\u001b[39m)\n",
      "\u001b[1;31mNameError\u001b[0m: name 'Tag' is not defined"
     ]
    }
   ],
   "source": [
    "import time\n",
    "i = 1\n",
    "target = Tag(id='cm_cr-review_list')\n",
    "items = Tag(cls=\"review\")\n",
    "title = Tag('a', cls='a-size-base a-link-normal review-title a-color-base review-title-content a-text-bold')\n",
    "content = Tag('span', cls = 'a-size-base review-text review-text-content')\n",
    "details = Tag('a', cls = 'a-size-mini a-link-normal a-color-secondary')\n",
    "data = []\n",
    "titles = []\n",
    "model = []\n",
    "review = []\n",
    "while True:\n",
    "    url = f'https://www.amazon.in/OnePlus-Nord-Chromatic-128GB-Storage/product-reviews/B0BY8MCQ9S/?pageNumber={i}'\n",
    "    print(f'{url}')\n",
    "    data_collector = Scraper(url, cookies=cookie)\n",
    "    result = data_collector.get_repeating_date_from_page(\n",
    "        target=target,\n",
    "        items=items,\n",
    "        title=title,\n",
    "        content=content,\n",
    "        details = details\n",
    "    )\n",
    "    i+=1\n",
    "    print(f\"data collected {len(result)} reviews\")\n",
    "    if len(result) == 0:\n",
    "        break\n",
    "    data.append(result)\n",
    "    time.sleep(2)\n",
    "\n",
    "for i in data:\n",
    "    for j in i:\n",
    "        titles.append(j['title'])\n",
    "        model.append(j['details'])\n",
    "        review.append(j['content'])\n",
    "df = pd.DataFrame({'titles' : titles,\n",
    "                    'model': model,\n",
    "                    'review': review})\n",
    "df.to_excel('oneplus_reviews2.xlsx')"
   ]
  }
 ],
 "metadata": {
  "kernelspec": {
   "display_name": "base",
   "language": "python",
   "name": "python3"
  },
  "language_info": {
   "codemirror_mode": {
    "name": "ipython",
    "version": 3
   },
   "file_extension": ".py",
   "mimetype": "text/x-python",
   "name": "python",
   "nbconvert_exporter": "python",
   "pygments_lexer": "ipython3",
   "version": "3.12.4"
  }
 },
 "nbformat": 4,
 "nbformat_minor": 2
}
